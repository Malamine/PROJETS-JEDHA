{
 "cells": [
  {
   "cell_type": "code",
   "execution_count": null,
   "metadata": {},
   "outputs": [
    {
     "name": "stdout",
     "output_type": "stream",
     "text": [
      "Bloc-1/\n",
      "Bloc-1/Export Test.csv\n",
      "Bloc-1/Final_file.csv\n",
      "Bloc-1/Geographie_des_villes.csv\n",
      "Bloc-1/File_to_load_S3.csv\n",
      "Bloc-1/Kayak2.ipynb\n",
      "Bloc-1/File_to_load1.csv\n",
      "Bloc-1/Kayak3.ipynb\n",
      "Bloc-1/Hotel_Data_Clean.csv\n",
      "Bloc-1/liste_hotels5.json\n",
      "Bloc-1/Kayak1.ipynb\n",
      "Bloc-2/\n",
      "Bloc-2/lat_long.csv\n",
      "Bloc-2/EDA_2.ipynb\n",
      "Bloc-2/EDA_1.ipynb\n",
      "Bloc-2/Speed_Dating_Data.csv\n",
      "Bloc-3/\n",
      "Bloc-3/Conversion_Rate/\n",
      "Bloc-3/Conversion_Rate/3-GS-Linear Regression.ipynb\n",
      "Bloc-3/Conversion_Rate/.ipynb_checkpoints/\n",
      "Bloc-3/Conversion_Rate/conversion_data_train.csv\n",
      "Bloc-3/Conversion_Rate/Consignes.ipynb\n",
      "Bloc-3/Conversion_Rate/4-DecisionTree.ipynb\n",
      "Bloc-3/Conversion_Rate/conversion_data_test_predictions_EXAMPLE.csv\n",
      "Bloc-3/Conversion_Rate/conversion_data_test.csv\n",
      "Bloc-3/Conversion_Rate/6-Adaboost.ipynb\n",
      "Bloc-3/Conversion_Rate/5-RandomForest.ipynb\n",
      "Bloc-3/Conversion_Rate/1-Linear Regression.ipynb\n",
      "Bloc-3/Conversion_Rate/2-Cross Validation score.ipynb\n",
      "Bloc-3/.ipynb_checkpoints/\n",
      "Bloc-3/Uber/\n",
      "Bloc-3/Uber/.ipynb_checkpoints/\n",
      "Bloc-3/Uber/.ipynb_checkpoints/Uber-checkpoint.ipynb\n",
      "Bloc-3/Uber/Uber.ipynb\n",
      "Bloc-3/Uber/uber-raw-data-aug14.csv\n",
      "Bloc-3/Uber/iframe_figures/\n",
      "Bloc-3/Uber/iframe_figures/figure_8.html\n",
      "Bloc-3/Uber/iframe_figures/figure_17.html\n",
      "Bloc-3/Uber/iframe_figures/figure_20.html\n",
      "Bloc-3/Uber/iframe_figures/figure_14.html\n",
      "Bloc-3/Uber/iframe_figures/figure_10.html\n",
      "Bloc-3/Uber/iframe_figures/figure_18.html\n",
      "Bloc-3/Walmart/\n",
      "Bloc-3/Walmart/.ipynb_checkpoints/\n",
      "Bloc-3/Walmart/.ipynb_checkpoints/Projet_Walmart-checkpoint.ipynb\n",
      "Bloc-3/Walmart/Walmart_Store_sales.csv\n",
      "Bloc-3/Walmart/Projet_Walmart.ipynb\n",
      "Bloc-4/\n",
      "Bloc-4/.ipynb_checkpoints/\n",
      "Bloc-4/.ipynb_checkpoints/NLP_Project-checkpoint.ipynb\n",
      "Bloc-4/NLP_Project.ipynb\n",
      "Bloc-5/\n",
      "Bloc-5/.gitignore\n",
      "Bloc-5/.ipynb_checkpoints/\n",
      "Bloc-5/.ipynb_checkpoints/Test-checkpoint.ipynb\n",
      "Bloc-5/.ipynb_checkpoints/Model_Training-checkpoint.ipynb\n",
      "Bloc-5/.ipynb_checkpoints/app-checkpoint.py\n",
      "Bloc-5/model.joblib\n",
      "Bloc-5/Procfile\n",
      "Bloc-5/test.py\n",
      "Bloc-5/requirements.txt\n",
      "Bloc-5/winequality.csv\n",
      "Bloc-5/test2.py\n",
      "Bloc-5/app.py\n",
      "Bloc-5/Test.ipynb\n",
      "Bloc-5/Model_Training.ipynb\n",
      "Optional (Spark)/\n",
      "Optional (Spark)/.ipynb_checkpoints/\n",
      "Optional (Spark)/Jedha.dbc\n",
      "Projet_Final/\n",
      "Projet_Final/Dockerrun.aws.json\n",
      "Projet_Final/SessionState.py\n",
      "Projet_Final/Script_PiYo.py\n",
      "Projet_Final/deepspeech-0.9.3-models.scorer\n"
     ]
    }
   ],
   "source": [
    "!tar cvfz allfiles.tar.gz *"
   ]
  },
  {
   "cell_type": "code",
   "execution_count": null,
   "metadata": {},
   "outputs": [],
   "source": []
  }
 ],
 "metadata": {
  "kernelspec": {
   "display_name": "Python 3",
   "language": "python",
   "name": "python3"
  },
  "language_info": {
   "codemirror_mode": {
    "name": "ipython",
    "version": 3
   },
   "file_extension": ".py",
   "mimetype": "text/x-python",
   "name": "python",
   "nbconvert_exporter": "python",
   "pygments_lexer": "ipython3",
   "version": "3.8.6"
  }
 },
 "nbformat": 4,
 "nbformat_minor": 4
}
