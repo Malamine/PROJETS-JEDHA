{
 "cells": [
  {
   "cell_type": "code",
   "execution_count": 2,
   "metadata": {},
   "outputs": [],
   "source": [
    "import pandas as pd"
   ]
  },
  {
   "cell_type": "code",
   "execution_count": 3,
   "metadata": {},
   "outputs": [],
   "source": [
    "#Ouvrir le dataset via pandas avec le bon encodage\n",
    "df_raw = pd.read_csv('Speed_Dating_Data.csv', encoding = 'ISO-8859-1')"
   ]
  },
  {
   "cell_type": "code",
   "execution_count": 4,
   "metadata": {},
   "outputs": [
    {
     "data": {
      "text/html": [
       "<div>\n",
       "<style scoped>\n",
       "    .dataframe tbody tr th:only-of-type {\n",
       "        vertical-align: middle;\n",
       "    }\n",
       "\n",
       "    .dataframe tbody tr th {\n",
       "        vertical-align: top;\n",
       "    }\n",
       "\n",
       "    .dataframe thead th {\n",
       "        text-align: right;\n",
       "    }\n",
       "</style>\n",
       "<table border=\"1\" class=\"dataframe\">\n",
       "  <thead>\n",
       "    <tr style=\"text-align: right;\">\n",
       "      <th></th>\n",
       "      <th>iid</th>\n",
       "      <th>id</th>\n",
       "      <th>gender</th>\n",
       "      <th>idg</th>\n",
       "      <th>condtn</th>\n",
       "      <th>wave</th>\n",
       "      <th>round</th>\n",
       "      <th>position</th>\n",
       "      <th>positin1</th>\n",
       "      <th>order</th>\n",
       "      <th>...</th>\n",
       "      <th>attr3_3</th>\n",
       "      <th>sinc3_3</th>\n",
       "      <th>intel3_3</th>\n",
       "      <th>fun3_3</th>\n",
       "      <th>amb3_3</th>\n",
       "      <th>attr5_3</th>\n",
       "      <th>sinc5_3</th>\n",
       "      <th>intel5_3</th>\n",
       "      <th>fun5_3</th>\n",
       "      <th>amb5_3</th>\n",
       "    </tr>\n",
       "  </thead>\n",
       "  <tbody>\n",
       "    <tr>\n",
       "      <th>0</th>\n",
       "      <td>1</td>\n",
       "      <td>1</td>\n",
       "      <td>Female</td>\n",
       "      <td>1</td>\n",
       "      <td>1</td>\n",
       "      <td>1</td>\n",
       "      <td>10</td>\n",
       "      <td>7</td>\n",
       "      <td>NaN</td>\n",
       "      <td>4</td>\n",
       "      <td>...</td>\n",
       "      <td>5.0</td>\n",
       "      <td>7.0</td>\n",
       "      <td>7.0</td>\n",
       "      <td>7.0</td>\n",
       "      <td>7.0</td>\n",
       "      <td>NaN</td>\n",
       "      <td>NaN</td>\n",
       "      <td>NaN</td>\n",
       "      <td>NaN</td>\n",
       "      <td>NaN</td>\n",
       "    </tr>\n",
       "    <tr>\n",
       "      <th>1</th>\n",
       "      <td>1</td>\n",
       "      <td>1</td>\n",
       "      <td>Female</td>\n",
       "      <td>1</td>\n",
       "      <td>1</td>\n",
       "      <td>1</td>\n",
       "      <td>10</td>\n",
       "      <td>7</td>\n",
       "      <td>NaN</td>\n",
       "      <td>3</td>\n",
       "      <td>...</td>\n",
       "      <td>5.0</td>\n",
       "      <td>7.0</td>\n",
       "      <td>7.0</td>\n",
       "      <td>7.0</td>\n",
       "      <td>7.0</td>\n",
       "      <td>NaN</td>\n",
       "      <td>NaN</td>\n",
       "      <td>NaN</td>\n",
       "      <td>NaN</td>\n",
       "      <td>NaN</td>\n",
       "    </tr>\n",
       "    <tr>\n",
       "      <th>2</th>\n",
       "      <td>1</td>\n",
       "      <td>1</td>\n",
       "      <td>Female</td>\n",
       "      <td>1</td>\n",
       "      <td>1</td>\n",
       "      <td>1</td>\n",
       "      <td>10</td>\n",
       "      <td>7</td>\n",
       "      <td>NaN</td>\n",
       "      <td>10</td>\n",
       "      <td>...</td>\n",
       "      <td>5.0</td>\n",
       "      <td>7.0</td>\n",
       "      <td>7.0</td>\n",
       "      <td>7.0</td>\n",
       "      <td>7.0</td>\n",
       "      <td>NaN</td>\n",
       "      <td>NaN</td>\n",
       "      <td>NaN</td>\n",
       "      <td>NaN</td>\n",
       "      <td>NaN</td>\n",
       "    </tr>\n",
       "    <tr>\n",
       "      <th>3</th>\n",
       "      <td>1</td>\n",
       "      <td>1</td>\n",
       "      <td>Female</td>\n",
       "      <td>1</td>\n",
       "      <td>1</td>\n",
       "      <td>1</td>\n",
       "      <td>10</td>\n",
       "      <td>7</td>\n",
       "      <td>NaN</td>\n",
       "      <td>5</td>\n",
       "      <td>...</td>\n",
       "      <td>5.0</td>\n",
       "      <td>7.0</td>\n",
       "      <td>7.0</td>\n",
       "      <td>7.0</td>\n",
       "      <td>7.0</td>\n",
       "      <td>NaN</td>\n",
       "      <td>NaN</td>\n",
       "      <td>NaN</td>\n",
       "      <td>NaN</td>\n",
       "      <td>NaN</td>\n",
       "    </tr>\n",
       "    <tr>\n",
       "      <th>4</th>\n",
       "      <td>1</td>\n",
       "      <td>1</td>\n",
       "      <td>Female</td>\n",
       "      <td>1</td>\n",
       "      <td>1</td>\n",
       "      <td>1</td>\n",
       "      <td>10</td>\n",
       "      <td>7</td>\n",
       "      <td>NaN</td>\n",
       "      <td>7</td>\n",
       "      <td>...</td>\n",
       "      <td>5.0</td>\n",
       "      <td>7.0</td>\n",
       "      <td>7.0</td>\n",
       "      <td>7.0</td>\n",
       "      <td>7.0</td>\n",
       "      <td>NaN</td>\n",
       "      <td>NaN</td>\n",
       "      <td>NaN</td>\n",
       "      <td>NaN</td>\n",
       "      <td>NaN</td>\n",
       "    </tr>\n",
       "  </tbody>\n",
       "</table>\n",
       "<p>5 rows × 195 columns</p>\n",
       "</div>"
      ],
      "text/plain": [
       "   iid  id  gender  idg  condtn  wave  round  position  positin1  order  ...  \\\n",
       "0    1   1  Female    1       1     1     10         7       NaN      4  ...   \n",
       "1    1   1  Female    1       1     1     10         7       NaN      3  ...   \n",
       "2    1   1  Female    1       1     1     10         7       NaN     10  ...   \n",
       "3    1   1  Female    1       1     1     10         7       NaN      5  ...   \n",
       "4    1   1  Female    1       1     1     10         7       NaN      7  ...   \n",
       "\n",
       "   attr3_3  sinc3_3  intel3_3  fun3_3  amb3_3  attr5_3  sinc5_3  intel5_3  \\\n",
       "0      5.0      7.0       7.0     7.0     7.0      NaN      NaN       NaN   \n",
       "1      5.0      7.0       7.0     7.0     7.0      NaN      NaN       NaN   \n",
       "2      5.0      7.0       7.0     7.0     7.0      NaN      NaN       NaN   \n",
       "3      5.0      7.0       7.0     7.0     7.0      NaN      NaN       NaN   \n",
       "4      5.0      7.0       7.0     7.0     7.0      NaN      NaN       NaN   \n",
       "\n",
       "   fun5_3  amb5_3  \n",
       "0     NaN     NaN  \n",
       "1     NaN     NaN  \n",
       "2     NaN     NaN  \n",
       "3     NaN     NaN  \n",
       "4     NaN     NaN  \n",
       "\n",
       "[5 rows x 195 columns]"
      ]
     },
     "execution_count": 4,
     "metadata": {},
     "output_type": "execute_result"
    }
   ],
   "source": [
    "#Changement de sexe en valeur str pour plus de lisibilité\n",
    "df_raw[\"gender\"] = df_raw[\"gender\"].replace(0,\"Female\")\n",
    "df_raw[\"gender\"] = df_raw[\"gender\"].replace(1,\"Male\")\n",
    "df_raw.head()"
   ]
  },
  {
   "cell_type": "code",
   "execution_count": 6,
   "metadata": {},
   "outputs": [
    {
     "data": {
      "text/plain": [
       "'\\nChoice of columns for the EDA (15 columns)\\n-> Gender <-\\n    ***Men or women***\\n-> Samerace <-\\n    ***participant and the partner were the same race***\\n-> race_o <-\\n    ***race of partner***\\n-> age_o <-\\n    ***age of partner***\\n-> field_cd <-\\n    ***field of study of the participant***\\n-> goal <-\\n    ***\\n        What is your primary goal in participating in this event? \\n        Seemed like a fun night out=1\\n        To meet new people=2\\n        To get a date=3\\n        Looking for a serious relationship=4\\n        To say I did it=5\\n        Other=6\\n    ***\\n    \\nWhat you look for in the opposite sex ?\\n-> attr1_1 <-\\n    ***Attractive***\\n-> sinc1_1 <-\\n    ***Sincere***\\n-> intel1_1 <-\\n    ***Intelligent***\\n-> fun1_1 <-\\n    ***Funny***\\n-> amb1_1 <-\\n    ***Ambitious***\\n-> shar1_1 <-\\n    ***Shared interest***\\n    \\n    \\n-> satis_2 <-\\n    Overall, how satisfied were you with the people you met? \\n-> imprace <-\\n    ***How important is it to you (on a scale of 1-10) that a person you date be of the same racial/ethnic background?***\\n-> imprelig <-\\n    ***How important is it to you (on a scale of 1-10) that a person you date be of the same religious background?***\\n\\n'"
      ]
     },
     "execution_count": 6,
     "metadata": {},
     "output_type": "execute_result"
    }
   ],
   "source": [
    "\"\"\"\n",
    "Choice of columns for the EDA (15 columns)\n",
    "-> Gender <-\n",
    "    ***Men or women***\n",
    "-> Samerace <-\n",
    "    ***participant and the partner were the same race***\n",
    "-> race_o <-\n",
    "    ***race of partner***\n",
    "-> age_o <-\n",
    "    ***age of partner***\n",
    "-> field_cd <-\n",
    "    ***field of study of the participant***\n",
    "-> goal <-\n",
    "    ***\n",
    "        What is your primary goal in participating in this event? \n",
    "        Seemed like a fun night out=1\n",
    "        To meet new people=2\n",
    "        To get a date=3\n",
    "        Looking for a serious relationship=4\n",
    "        To say I did it=5\n",
    "        Other=6\n",
    "    ***\n",
    "    \n",
    "What you look for in the opposite sex ?\n",
    "-> attr1_1 <-\n",
    "    ***Attractive***\n",
    "-> sinc1_1 <-\n",
    "    ***Sincere***\n",
    "-> intel1_1 <-\n",
    "    ***Intelligent***\n",
    "-> fun1_1 <-\n",
    "    ***Funny***\n",
    "-> amb1_1 <-\n",
    "    ***Ambitious***\n",
    "-> shar1_1 <-\n",
    "    ***Shared interest***\n",
    "    \n",
    "    \n",
    "-> satis_2 <-\n",
    "    Overall, how satisfied were you with the people you met? \n",
    "-> imprace <-\n",
    "    ***How important is it to you (on a scale of 1-10) that a person you date be of the same racial/ethnic background?***\n",
    "-> imprelig <-\n",
    "    ***How important is it to you (on a scale of 1-10) that a person you date be of the same religious background?***\n",
    "\n",
    "\"\"\""
   ]
  },
  {
   "cell_type": "code",
   "execution_count": 7,
   "metadata": {},
   "outputs": [
    {
     "data": {
      "text/html": [
       "<div>\n",
       "<style scoped>\n",
       "    .dataframe tbody tr th:only-of-type {\n",
       "        vertical-align: middle;\n",
       "    }\n",
       "\n",
       "    .dataframe tbody tr th {\n",
       "        vertical-align: top;\n",
       "    }\n",
       "\n",
       "    .dataframe thead th {\n",
       "        text-align: right;\n",
       "    }\n",
       "</style>\n",
       "<table border=\"1\" class=\"dataframe\">\n",
       "  <thead>\n",
       "    <tr style=\"text-align: right;\">\n",
       "      <th></th>\n",
       "      <th>gender</th>\n",
       "      <th>samerace</th>\n",
       "      <th>race_o</th>\n",
       "      <th>age_o</th>\n",
       "      <th>field_cd</th>\n",
       "      <th>goal</th>\n",
       "      <th>attr1_1</th>\n",
       "      <th>sinc1_1</th>\n",
       "      <th>intel1_1</th>\n",
       "      <th>fun1_1</th>\n",
       "      <th>amb1_1</th>\n",
       "      <th>shar1_1</th>\n",
       "      <th>satis_2</th>\n",
       "      <th>imprace</th>\n",
       "      <th>imprelig</th>\n",
       "    </tr>\n",
       "  </thead>\n",
       "  <tbody>\n",
       "    <tr>\n",
       "      <th>0</th>\n",
       "      <td>Female</td>\n",
       "      <td>0</td>\n",
       "      <td>2.0</td>\n",
       "      <td>27.0</td>\n",
       "      <td>1.0</td>\n",
       "      <td>2.0</td>\n",
       "      <td>15.0</td>\n",
       "      <td>20.0</td>\n",
       "      <td>20.0</td>\n",
       "      <td>15.0</td>\n",
       "      <td>15.0</td>\n",
       "      <td>15.0</td>\n",
       "      <td>6.0</td>\n",
       "      <td>2.0</td>\n",
       "      <td>4.0</td>\n",
       "    </tr>\n",
       "    <tr>\n",
       "      <th>1</th>\n",
       "      <td>Female</td>\n",
       "      <td>0</td>\n",
       "      <td>2.0</td>\n",
       "      <td>22.0</td>\n",
       "      <td>1.0</td>\n",
       "      <td>2.0</td>\n",
       "      <td>15.0</td>\n",
       "      <td>20.0</td>\n",
       "      <td>20.0</td>\n",
       "      <td>15.0</td>\n",
       "      <td>15.0</td>\n",
       "      <td>15.0</td>\n",
       "      <td>6.0</td>\n",
       "      <td>2.0</td>\n",
       "      <td>4.0</td>\n",
       "    </tr>\n",
       "    <tr>\n",
       "      <th>2</th>\n",
       "      <td>Female</td>\n",
       "      <td>1</td>\n",
       "      <td>4.0</td>\n",
       "      <td>22.0</td>\n",
       "      <td>1.0</td>\n",
       "      <td>2.0</td>\n",
       "      <td>15.0</td>\n",
       "      <td>20.0</td>\n",
       "      <td>20.0</td>\n",
       "      <td>15.0</td>\n",
       "      <td>15.0</td>\n",
       "      <td>15.0</td>\n",
       "      <td>6.0</td>\n",
       "      <td>2.0</td>\n",
       "      <td>4.0</td>\n",
       "    </tr>\n",
       "    <tr>\n",
       "      <th>3</th>\n",
       "      <td>Female</td>\n",
       "      <td>0</td>\n",
       "      <td>2.0</td>\n",
       "      <td>23.0</td>\n",
       "      <td>1.0</td>\n",
       "      <td>2.0</td>\n",
       "      <td>15.0</td>\n",
       "      <td>20.0</td>\n",
       "      <td>20.0</td>\n",
       "      <td>15.0</td>\n",
       "      <td>15.0</td>\n",
       "      <td>15.0</td>\n",
       "      <td>6.0</td>\n",
       "      <td>2.0</td>\n",
       "      <td>4.0</td>\n",
       "    </tr>\n",
       "    <tr>\n",
       "      <th>4</th>\n",
       "      <td>Female</td>\n",
       "      <td>0</td>\n",
       "      <td>3.0</td>\n",
       "      <td>24.0</td>\n",
       "      <td>1.0</td>\n",
       "      <td>2.0</td>\n",
       "      <td>15.0</td>\n",
       "      <td>20.0</td>\n",
       "      <td>20.0</td>\n",
       "      <td>15.0</td>\n",
       "      <td>15.0</td>\n",
       "      <td>15.0</td>\n",
       "      <td>6.0</td>\n",
       "      <td>2.0</td>\n",
       "      <td>4.0</td>\n",
       "    </tr>\n",
       "  </tbody>\n",
       "</table>\n",
       "</div>"
      ],
      "text/plain": [
       "   gender  samerace  race_o  age_o  field_cd  goal  attr1_1  sinc1_1  \\\n",
       "0  Female         0     2.0   27.0       1.0   2.0     15.0     20.0   \n",
       "1  Female         0     2.0   22.0       1.0   2.0     15.0     20.0   \n",
       "2  Female         1     4.0   22.0       1.0   2.0     15.0     20.0   \n",
       "3  Female         0     2.0   23.0       1.0   2.0     15.0     20.0   \n",
       "4  Female         0     3.0   24.0       1.0   2.0     15.0     20.0   \n",
       "\n",
       "   intel1_1  fun1_1  amb1_1  shar1_1  satis_2  imprace  imprelig  \n",
       "0      20.0    15.0    15.0     15.0      6.0      2.0       4.0  \n",
       "1      20.0    15.0    15.0     15.0      6.0      2.0       4.0  \n",
       "2      20.0    15.0    15.0     15.0      6.0      2.0       4.0  \n",
       "3      20.0    15.0    15.0     15.0      6.0      2.0       4.0  \n",
       "4      20.0    15.0    15.0     15.0      6.0      2.0       4.0  "
      ]
     },
     "execution_count": 7,
     "metadata": {},
     "output_type": "execute_result"
    }
   ],
   "source": [
    "df = df_raw[[\"gender\",\"samerace\",\"race_o\",\"age_o\",\"field_cd\",\"goal\",\"attr1_1\",\"sinc1_1\",\"intel1_1\",\"fun1_1\",\"amb1_1\",\"shar1_1\",\"satis_2\",\"imprace\", \"imprelig\"]]\n",
    "df.head()"
   ]
  },
  {
   "cell_type": "code",
   "execution_count": 8,
   "metadata": {},
   "outputs": [
    {
     "data": {
      "text/html": [
       "<div>\n",
       "<style scoped>\n",
       "    .dataframe tbody tr th:only-of-type {\n",
       "        vertical-align: middle;\n",
       "    }\n",
       "\n",
       "    .dataframe tbody tr th {\n",
       "        vertical-align: top;\n",
       "    }\n",
       "\n",
       "    .dataframe thead th {\n",
       "        text-align: right;\n",
       "    }\n",
       "</style>\n",
       "<table border=\"1\" class=\"dataframe\">\n",
       "  <thead>\n",
       "    <tr style=\"text-align: right;\">\n",
       "      <th></th>\n",
       "      <th>samerace</th>\n",
       "      <th>race_o</th>\n",
       "      <th>age_o</th>\n",
       "      <th>field_cd</th>\n",
       "      <th>goal</th>\n",
       "      <th>attr1_1</th>\n",
       "      <th>sinc1_1</th>\n",
       "      <th>intel1_1</th>\n",
       "      <th>fun1_1</th>\n",
       "      <th>amb1_1</th>\n",
       "      <th>shar1_1</th>\n",
       "      <th>satis_2</th>\n",
       "      <th>imprace</th>\n",
       "    </tr>\n",
       "  </thead>\n",
       "  <tbody>\n",
       "    <tr>\n",
       "      <th>count</th>\n",
       "      <td>1992.000000</td>\n",
       "      <td>1957.000000</td>\n",
       "      <td>1948.000000</td>\n",
       "      <td>1948.000000</td>\n",
       "      <td>1951.000000</td>\n",
       "      <td>1951.000000</td>\n",
       "      <td>1951.000000</td>\n",
       "      <td>1951.000000</td>\n",
       "      <td>1941.000000</td>\n",
       "      <td>1931.000000</td>\n",
       "      <td>1931.000000</td>\n",
       "      <td>1807.000000</td>\n",
       "      <td>1951.000000</td>\n",
       "    </tr>\n",
       "    <tr>\n",
       "      <th>mean</th>\n",
       "      <td>0.388554</td>\n",
       "      <td>2.699540</td>\n",
       "      <td>25.273101</td>\n",
       "      <td>6.372690</td>\n",
       "      <td>2.249103</td>\n",
       "      <td>23.397775</td>\n",
       "      <td>16.894505</td>\n",
       "      <td>21.599216</td>\n",
       "      <td>17.479042</td>\n",
       "      <td>10.167204</td>\n",
       "      <td>11.071875</td>\n",
       "      <td>5.537908</td>\n",
       "      <td>3.896463</td>\n",
       "    </tr>\n",
       "    <tr>\n",
       "      <th>std</th>\n",
       "      <td>0.487544</td>\n",
       "      <td>1.233755</td>\n",
       "      <td>3.548093</td>\n",
       "      <td>3.902341</td>\n",
       "      <td>1.636904</td>\n",
       "      <td>13.346067</td>\n",
       "      <td>7.071538</td>\n",
       "      <td>7.466193</td>\n",
       "      <td>6.471873</td>\n",
       "      <td>7.100612</td>\n",
       "      <td>6.684325</td>\n",
       "      <td>1.872922</td>\n",
       "      <td>2.908615</td>\n",
       "    </tr>\n",
       "    <tr>\n",
       "      <th>min</th>\n",
       "      <td>0.000000</td>\n",
       "      <td>1.000000</td>\n",
       "      <td>18.000000</td>\n",
       "      <td>1.000000</td>\n",
       "      <td>1.000000</td>\n",
       "      <td>5.000000</td>\n",
       "      <td>0.000000</td>\n",
       "      <td>0.000000</td>\n",
       "      <td>0.000000</td>\n",
       "      <td>0.000000</td>\n",
       "      <td>0.000000</td>\n",
       "      <td>1.000000</td>\n",
       "      <td>1.000000</td>\n",
       "    </tr>\n",
       "    <tr>\n",
       "      <th>25%</th>\n",
       "      <td>0.000000</td>\n",
       "      <td>2.000000</td>\n",
       "      <td>22.000000</td>\n",
       "      <td>3.000000</td>\n",
       "      <td>1.000000</td>\n",
       "      <td>15.000000</td>\n",
       "      <td>10.000000</td>\n",
       "      <td>20.000000</td>\n",
       "      <td>14.580000</td>\n",
       "      <td>5.000000</td>\n",
       "      <td>5.000000</td>\n",
       "      <td>4.000000</td>\n",
       "      <td>1.000000</td>\n",
       "    </tr>\n",
       "    <tr>\n",
       "      <th>50%</th>\n",
       "      <td>0.000000</td>\n",
       "      <td>2.000000</td>\n",
       "      <td>25.000000</td>\n",
       "      <td>8.000000</td>\n",
       "      <td>2.000000</td>\n",
       "      <td>20.000000</td>\n",
       "      <td>18.180000</td>\n",
       "      <td>20.000000</td>\n",
       "      <td>18.000000</td>\n",
       "      <td>10.000000</td>\n",
       "      <td>10.000000</td>\n",
       "      <td>6.000000</td>\n",
       "      <td>3.000000</td>\n",
       "    </tr>\n",
       "    <tr>\n",
       "      <th>75%</th>\n",
       "      <td>1.000000</td>\n",
       "      <td>4.000000</td>\n",
       "      <td>27.000000</td>\n",
       "      <td>10.000000</td>\n",
       "      <td>2.000000</td>\n",
       "      <td>30.000000</td>\n",
       "      <td>20.000000</td>\n",
       "      <td>25.000000</td>\n",
       "      <td>20.000000</td>\n",
       "      <td>15.000000</td>\n",
       "      <td>15.000000</td>\n",
       "      <td>7.000000</td>\n",
       "      <td>6.000000</td>\n",
       "    </tr>\n",
       "    <tr>\n",
       "      <th>max</th>\n",
       "      <td>1.000000</td>\n",
       "      <td>6.000000</td>\n",
       "      <td>39.000000</td>\n",
       "      <td>16.000000</td>\n",
       "      <td>6.000000</td>\n",
       "      <td>100.000000</td>\n",
       "      <td>40.000000</td>\n",
       "      <td>50.000000</td>\n",
       "      <td>40.000000</td>\n",
       "      <td>53.000000</td>\n",
       "      <td>30.000000</td>\n",
       "      <td>10.000000</td>\n",
       "      <td>10.000000</td>\n",
       "    </tr>\n",
       "  </tbody>\n",
       "</table>\n",
       "</div>"
      ],
      "text/plain": [
       "          samerace       race_o        age_o     field_cd         goal  \\\n",
       "count  1992.000000  1957.000000  1948.000000  1948.000000  1951.000000   \n",
       "mean      0.388554     2.699540    25.273101     6.372690     2.249103   \n",
       "std       0.487544     1.233755     3.548093     3.902341     1.636904   \n",
       "min       0.000000     1.000000    18.000000     1.000000     1.000000   \n",
       "25%       0.000000     2.000000    22.000000     3.000000     1.000000   \n",
       "50%       0.000000     2.000000    25.000000     8.000000     2.000000   \n",
       "75%       1.000000     4.000000    27.000000    10.000000     2.000000   \n",
       "max       1.000000     6.000000    39.000000    16.000000     6.000000   \n",
       "\n",
       "           attr1_1      sinc1_1     intel1_1       fun1_1       amb1_1  \\\n",
       "count  1951.000000  1951.000000  1951.000000  1941.000000  1931.000000   \n",
       "mean     23.397775    16.894505    21.599216    17.479042    10.167204   \n",
       "std      13.346067     7.071538     7.466193     6.471873     7.100612   \n",
       "min       5.000000     0.000000     0.000000     0.000000     0.000000   \n",
       "25%      15.000000    10.000000    20.000000    14.580000     5.000000   \n",
       "50%      20.000000    18.180000    20.000000    18.000000    10.000000   \n",
       "75%      30.000000    20.000000    25.000000    20.000000    15.000000   \n",
       "max     100.000000    40.000000    50.000000    40.000000    53.000000   \n",
       "\n",
       "           shar1_1      satis_2      imprace  \n",
       "count  1931.000000  1807.000000  1951.000000  \n",
       "mean     11.071875     5.537908     3.896463  \n",
       "std       6.684325     1.872922     2.908615  \n",
       "min       0.000000     1.000000     1.000000  \n",
       "25%       5.000000     4.000000     1.000000  \n",
       "50%      10.000000     6.000000     3.000000  \n",
       "75%      15.000000     7.000000     6.000000  \n",
       "max      30.000000    10.000000    10.000000  "
      ]
     },
     "execution_count": 8,
     "metadata": {},
     "output_type": "execute_result"
    }
   ],
   "source": [
    "df.describe()"
   ]
  },
  {
   "cell_type": "code",
   "execution_count": 51,
   "metadata": {},
   "outputs": [
    {
     "data": {
      "text/plain": [
       "<seaborn.axisgrid.FacetGrid at 0x7fdc66c80dc0>"
      ]
     },
     "execution_count": 51,
     "metadata": {},
     "output_type": "execute_result"
    },
    {
     "data": {
      "image/png": "[encoded data removed]",
      "text/plain": [
       "<Figure size 360x360 with 1 Axes>"
      ]
     },
     "metadata": {
      "needs_background": "light"
     },
     "output_type": "display_data"
    }
   ],
   "source": [
    "#Critères d'importance en général (hommes et femmes confondus) trié par ordre décroissant\n",
    "df_criterion = df[[\"attr1_1\",\"sinc1_1\",\"intel1_1\",\"fun1_1\",\"amb1_1\",\"shar1_1\"]].mean().astype(int).sort_values(ascending = False).reset_index().rename(columns={'index':\"Criterion\", 0:\"Mean\"})\n",
    "\n",
    "import seaborn as sns\n",
    "sns.catplot(data = df_criterion, x = 'Criterion', y = \"Mean\", kind=\"bar\")\n",
    "\n",
    "#On peut voir que le critère dominant est l'attractivité du partenaire suivi par l'intelligence. Le critère le moins important est l'ambition"
   ]
  },
  {
   "cell_type": "code",
   "execution_count": 55,
   "metadata": {},
   "outputs": [
    {
     "data": {
      "text/plain": [
       "<seaborn.axisgrid.FacetGrid at 0x7fdc66b9ea90>"
      ]
     },
     "execution_count": 55,
     "metadata": {},
     "output_type": "execute_result"
    },
    {
     "data": {
      "image/png": "[encoded data removed]",
      "text/plain": [
       "<Figure size 360x360 with 1 Axes>"
      ]
     },
     "metadata": {
      "needs_background": "light"
     },
     "output_type": "display_data"
    }
   ],
   "source": [
    "#Importance de l'intelligence chez le partenaire : Male vs Female\n",
    "import seaborn as sns\n",
    "sns.catplot(x='gender', y='intel1_1', kind='bar', data=df, hue=\"gender\")\n",
    "#Importance plus sensible pour les femmes en ce qui concerne l'intelligence"
   ]
  },
  {
   "cell_type": "code",
   "execution_count": 56,
   "metadata": {},
   "outputs": [
    {
     "data": {
      "text/plain": [
       "<seaborn.axisgrid.FacetGrid at 0x7fdc66ab1790>"
      ]
     },
     "execution_count": 56,
     "metadata": {},
     "output_type": "execute_result"
    },
    {
     "data": {
      "image/png": "[encoded data removed]",
      "text/plain": [
       "<Figure size 360x360 with 1 Axes>"
      ]
     },
     "metadata": {
      "needs_background": "light"
     },
     "output_type": "display_data"
    }
   ],
   "source": [
    "#Importance de l'ambition chez le partenaire : Male vs Female\n",
    "import seaborn as sns\n",
    "sns.catplot(x='gender', y='amb1_1', kind='bar', data=df, hue=\"gender\")\n",
    "#La femme accorde 2x plus d'importance à l'ambition de son partenaire par rapport aux hommes"
   ]
  },
  {
   "cell_type": "code",
   "execution_count": 62,
   "metadata": {},
   "outputs": [
    {
     "data": {
      "text/plain": [
       "<seaborn.axisgrid.FacetGrid at 0x7fdc648a2f10>"
      ]
     },
     "execution_count": 62,
     "metadata": {},
     "output_type": "execute_result"
    },
    {
     "data": {
      "image/png": "[encoded data removed]",
      "text/plain": [
       "<Figure size 360x360 with 1 Axes>"
      ]
     },
     "metadata": {
      "needs_background": "light"
     },
     "output_type": "display_data"
    }
   ],
   "source": [
    "#Importance de l'attractivité chez le partenaire : Male vs Female\n",
    "import seaborn as sns\n",
    "Graph = sns.catplot(x='gender', y='attr1_1', kind='bar', data=df, hue=\"gender\")\n",
    "Graph.set_axis_labels(\"\", \"Attractiveness importance\").set(title=\"Importance de l'attractivité par genre\")\n",
    "#Quelle surprise ! Les hommes sont presque 2x plus intéressés par le physique de leur partenaire"
   ]
  },
  {
   "cell_type": "code",
   "execution_count": 60,
   "metadata": {},
   "outputs": [
    {
     "data": {
      "text/plain": [
       "<seaborn.axisgrid.FacetGrid at 0x7fdc66d66cd0>"
      ]
     },
     "execution_count": 60,
     "metadata": {},
     "output_type": "execute_result"
    },
    {
     "data": {
      "image/png": "[encoded data removed]",
      "text/plain": [
       "<Figure size 360x360 with 1 Axes>"
      ]
     },
     "metadata": {
      "needs_background": "light"
     },
     "output_type": "display_data"
    }
   ],
   "source": [
    "#Repartition des âges des partenaires\n",
    "import seaborn as sns\n",
    "Graph = sns.catplot(x=\"gender\", y=\"age_o\", order=[\"Male\", \"Female\"], data=df, kind=\"boxen\")\n",
    "Graph.set_axis_labels(\"Gender\", \"Age of partner\").set(title=\"Répartition des âges des partenaires\")\n",
    "\n",
    "#LLes femmes ont des partenaires légèrement plus âgés que les hommes."
   ]
  },
  {
   "cell_type": "code",
   "execution_count": 14,
   "metadata": {},
   "outputs": [
    {
     "data": {
      "text/plain": [
       "<seaborn.axisgrid.FacetGrid at 0x7f2741e6b580>"
      ]
     },
     "execution_count": 14,
     "metadata": {},
     "output_type": "execute_result"
    },
    {
     "data": {
      "image/png": "[encoded data removed]",
      "text/plain": [
       "<Figure size 360x360 with 1 Axes>"
      ]
     },
     "metadata": {
      "needs_background": "light"
     },
     "output_type": "display_data"
    }
   ],
   "source": [
    "#Taux de satisfaction Homme vs Femmes\n",
    "Graph = sns.catplot(x=\"gender\", y=\"satis_2\", data=df, kind=\"bar\", palette=\"Blues\" )\n",
    "Graph.set_axis_labels(\"\", \"Taux de Satisfaction après le Date\").set_xticklabels([\"Femme\", \"Homme\"]).set(ylim=(0, 10)).set(title=\"Taux de satisfaction partenaires\")\n",
    "\n",
    "# Les femmes sont à peine satisfaites des hommes qu'elles ont rencontrés (5/10) par rapport aux hommes qui sont légèrement plus satisfaits (6.2 environ)"
   ]
  },
  {
   "cell_type": "code",
   "execution_count": 58,
   "metadata": {},
   "outputs": [
    {
     "data": {
      "text/plain": [
       "<seaborn.axisgrid.FacetGrid at 0x7fdc66c14e20>"
      ]
     },
     "execution_count": 58,
     "metadata": {},
     "output_type": "execute_result"
    },
    {
     "data": {
      "image/png": "[encoded data removed]",
      "text/plain": [
       "<Figure size 360x360 with 1 Axes>"
      ]
     },
     "metadata": {
      "needs_background": "light"
     },
     "output_type": "display_data"
    }
   ],
   "source": [
    "#Taux de satisfaction Homme vs Femmes dont les partenaires ont plus de 33 ans\n",
    "\n",
    "mask = df[\"age_o\"] > 33\n",
    "\n",
    "Graph = sns.catplot(x=\"gender\", y=\"satis_2\", data=df.loc[mask,:], kind=\"bar\", palette=\"Blues\" )\n",
    "Graph.set_axis_labels(\"\", \"Taux de Satisfaction après le Date\").set_xticklabels([\"Femme\", \"Homme\"]).set(ylim=(0, 10)).set(title=\"Taux de satisfaction partenaires\")\n",
    "\n",
    "# La moyenne de satisfaction est plus haute chez les personnes qui ont rencontré des partenaires de plus de 33 ans par rapport à la moyenne générale"
   ]
  },
  {
   "cell_type": "code",
   "execution_count": 59,
   "metadata": {},
   "outputs": [
    {
     "data": {
      "text/plain": [
       "<seaborn.axisgrid.FacetGrid at 0x7fdc66a3e460>"
      ]
     },
     "execution_count": 59,
     "metadata": {},
     "output_type": "execute_result"
    },
    {
     "data": {
      "image/png": "[encoded data removed]",
      "text/plain": [
       "<Figure size 360x360 with 1 Axes>"
      ]
     },
     "metadata": {
      "needs_background": "light"
     },
     "output_type": "display_data"
    }
   ],
   "source": [
    "#Taux de satisfaction Homme vs Femmes de plus de 30 ans\n",
    "\n",
    "mask1 = (df[\"imprace\"] > 6) & (df[\"samerace\"] == 1)\n",
    "\n",
    "Graph = sns.catplot(x=\"gender\", y=\"satis_2\", data=df.loc[mask1,:], kind=\"bar\", palette=\"Blues\" )\n",
    "Graph.set_axis_labels(\"\", \"Taux de Satisfaction après le Date\").set_xticklabels([\"Femme\", \"Homme\"]).set(ylim=(0, 6)).set(title=\"Taux de satisfaction partenaires\")\n"
   ]
  },
  {
   "cell_type": "code",
   "execution_count": 74,
   "metadata": {},
   "outputs": [
    {
     "data": {
      "text/plain": [
       "<seaborn.axisgrid.FacetGrid at 0x7fdc644e5a90>"
      ]
     },
     "execution_count": 74,
     "metadata": {},
     "output_type": "execute_result"
    },
    {
     "data": {
      "image/png": "[encoded data removed]",
      "text/plain": [
       "<Figure size 432.125x360 with 1 Axes>"
      ]
     },
     "metadata": {
      "needs_background": "light"
     },
     "output_type": "display_data"
    }
   ],
   "source": [
    "#Taux de satisfaction lorsque le partenaire est de la même race\n",
    "sns.catplot(data=df, x=\"samerace\", y=\"satis_2\", hue=\"gender\", kind=\"bar\")\n",
    "\n",
    "#Aucune différence quant à la satisfaction en général"
   ]
  }
 ],
 "metadata": {
  "kernelspec": {
   "display_name": "Python 3",
   "language": "python",
   "name": "python3"
  },
  "language_info": {
   "codemirror_mode": {
    "name": "ipython",
    "version": 3
   },
   "file_extension": ".py",
   "mimetype": "text/x-python",
   "name": "python",
   "nbconvert_exporter": "python",
   "pygments_lexer": "ipython3",
   "version": "3.8.6"
  }
 },
 "nbformat": 4,
 "nbformat_minor": 4
}
