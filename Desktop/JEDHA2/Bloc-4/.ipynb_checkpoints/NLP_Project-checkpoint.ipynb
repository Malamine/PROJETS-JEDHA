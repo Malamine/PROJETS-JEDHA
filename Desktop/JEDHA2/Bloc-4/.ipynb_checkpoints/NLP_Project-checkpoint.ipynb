{
  "cells": [
    {
      "cell_type": "code",
      "execution_count": null,
      "metadata": {
        "id": "m5HDD2EGfBVk"
      },
      "outputs": [],
      "source": [
        "import tensorflow as tf\n",
        "\n",
        "from tensorflow.keras import Sequential\n",
        "from tensorflow.keras.layers import Dense, Embedding, GlobalAveragePooling1D"
      ]
    },
    {
      "cell_type": "code",
      "execution_count": null,
      "metadata": {
        "id": "gJ70oEyNVQKY"
      },
      "outputs": [],
      "source": [
        "import pandas as pd"
      ]
    },
    {
      "cell_type": "code",
      "execution_count": null,
      "metadata": {
        "colab": {
          "base_uri": "https://localhost:8080/"
        },
        "id": "rSIj0xiAVZdz",
        "outputId": "556eed3a-f4cc-4509-c2ef-be23238a45f3"
      },
      "outputs": [
        {
          "data": {
            "text/plain": [
              "(   id keyword  ...                                               text target\n",
              " 0   1     NaN  ...  Our Deeds are the Reason of this #earthquake M...      1\n",
              " 1   4     NaN  ...             Forest fire near La Ronge Sask. Canada      1\n",
              " 2   5     NaN  ...  All residents asked to 'shelter in place' are ...      1\n",
              " 3   6     NaN  ...  13,000 people receive #wildfires evacuation or...      1\n",
              " 4   7     NaN  ...  Just got sent this photo from Ruby #Alaska as ...      1\n",
              " \n",
              " [5 rows x 5 columns],\n",
              "    id keyword location                                               text\n",
              " 0   0     NaN      NaN                 Just happened a terrible car crash\n",
              " 1   2     NaN      NaN  Heard about #earthquake is different cities, s...\n",
              " 2   3     NaN      NaN  there is a forest fire at spot pond, geese are...\n",
              " 3   9     NaN      NaN           Apocalypse lighting. #Spokane #wildfires\n",
              " 4  11     NaN      NaN      Typhoon Soudelor kills 28 in China and Taiwan)"
            ]
          },
          "execution_count": 149,
          "metadata": {},
          "output_type": "execute_result"
        }
      ],
      "source": [
        "#Import du fichier train et test\n",
        "\n",
        "import pandas as pd\n",
        "\n",
        "url_train = 'https://drive.google.com/file/d/1XQiT0_Q50Wt2yreXhu-TXQzDaaucF4c3/view?usp=sharing'\n",
        "path_train = 'https://drive.google.com/uc?export=download&id='+url_train.split('/')[-2]\n",
        "train = pd.read_csv(path_train)\n",
        "\n",
        "url_test = 'https://drive.google.com/file/d/1Iq5zOkFLHaMYXTraW8IfbZG6ensnuMyX/view?usp=sharing'\n",
        "path_test = 'https://drive.google.com/uc?export=download&id='+url_test.split('/')[-2]\n",
        "test = pd.read_csv(path_test)\n",
        "\n",
        "train.head(), test.head()\n"
      ]
    },
    {
      "cell_type": "code",
      "execution_count": null,
      "metadata": {
        "colab": {
          "base_uri": "https://localhost:8080/",
          "height": 394
        },
        "id": "53pfTg8qjVcr",
        "outputId": "f2b121b4-773d-4e7c-cf13-3113f065b38a"
      },
      "outputs": [
        {
          "data": {
            "text/html": [
              "\n",
              "  <div id=\"df-3a1d212f-8b59-4eba-915d-b6a5e5f304ba\">\n",
              "    <div class=\"colab-df-container\">\n",
              "      <div>\n",
              "<style scoped>\n",
              "    .dataframe tbody tr th:only-of-type {\n",
              "        vertical-align: middle;\n",
              "    }\n",
              "\n",
              "    .dataframe tbody tr th {\n",
              "        vertical-align: top;\n",
              "    }\n",
              "\n",
              "    .dataframe thead th {\n",
              "        text-align: right;\n",
              "    }\n",
              "</style>\n",
              "<table border=\"1\" class=\"dataframe\">\n",
              "  <thead>\n",
              "    <tr style=\"text-align: right;\">\n",
              "      <th></th>\n",
              "      <th>id</th>\n",
              "      <th>keyword</th>\n",
              "      <th>location</th>\n",
              "      <th>text</th>\n",
              "      <th>target</th>\n",
              "    </tr>\n",
              "  </thead>\n",
              "  <tbody>\n",
              "    <tr>\n",
              "      <th>count</th>\n",
              "      <td>7613.000000</td>\n",
              "      <td>7552</td>\n",
              "      <td>5080</td>\n",
              "      <td>7613</td>\n",
              "      <td>7613.00000</td>\n",
              "    </tr>\n",
              "    <tr>\n",
              "      <th>unique</th>\n",
              "      <td>NaN</td>\n",
              "      <td>221</td>\n",
              "      <td>3341</td>\n",
              "      <td>7503</td>\n",
              "      <td>NaN</td>\n",
              "    </tr>\n",
              "    <tr>\n",
              "      <th>top</th>\n",
              "      <td>NaN</td>\n",
              "      <td>fatalities</td>\n",
              "      <td>USA</td>\n",
              "      <td>11-Year-Old Boy Charged With Manslaughter of T...</td>\n",
              "      <td>NaN</td>\n",
              "    </tr>\n",
              "    <tr>\n",
              "      <th>freq</th>\n",
              "      <td>NaN</td>\n",
              "      <td>45</td>\n",
              "      <td>104</td>\n",
              "      <td>10</td>\n",
              "      <td>NaN</td>\n",
              "    </tr>\n",
              "    <tr>\n",
              "      <th>mean</th>\n",
              "      <td>5441.934848</td>\n",
              "      <td>NaN</td>\n",
              "      <td>NaN</td>\n",
              "      <td>NaN</td>\n",
              "      <td>0.42966</td>\n",
              "    </tr>\n",
              "    <tr>\n",
              "      <th>std</th>\n",
              "      <td>3137.116090</td>\n",
              "      <td>NaN</td>\n",
              "      <td>NaN</td>\n",
              "      <td>NaN</td>\n",
              "      <td>0.49506</td>\n",
              "    </tr>\n",
              "    <tr>\n",
              "      <th>min</th>\n",
              "      <td>1.000000</td>\n",
              "      <td>NaN</td>\n",
              "      <td>NaN</td>\n",
              "      <td>NaN</td>\n",
              "      <td>0.00000</td>\n",
              "    </tr>\n",
              "    <tr>\n",
              "      <th>25%</th>\n",
              "      <td>2734.000000</td>\n",
              "      <td>NaN</td>\n",
              "      <td>NaN</td>\n",
              "      <td>NaN</td>\n",
              "      <td>0.00000</td>\n",
              "    </tr>\n",
              "    <tr>\n",
              "      <th>50%</th>\n",
              "      <td>5408.000000</td>\n",
              "      <td>NaN</td>\n",
              "      <td>NaN</td>\n",
              "      <td>NaN</td>\n",
              "      <td>0.00000</td>\n",
              "    </tr>\n",
              "    <tr>\n",
              "      <th>75%</th>\n",
              "      <td>8146.000000</td>\n",
              "      <td>NaN</td>\n",
              "      <td>NaN</td>\n",
              "      <td>NaN</td>\n",
              "      <td>1.00000</td>\n",
              "    </tr>\n",
              "    <tr>\n",
              "      <th>max</th>\n",
              "      <td>10873.000000</td>\n",
              "      <td>NaN</td>\n",
              "      <td>NaN</td>\n",
              "      <td>NaN</td>\n",
              "      <td>1.00000</td>\n",
              "    </tr>\n",
              "  </tbody>\n",
              "</table>\n",
              "</div>\n",
              "      <button class=\"colab-df-convert\" onclick=\"convertToInteractive('df-3a1d212f-8b59-4eba-915d-b6a5e5f304ba')\"\n",
              "              title=\"Convert this dataframe to an interactive table.\"\n",
              "              style=\"display:none;\">\n",
              "        \n",
              "  <svg xmlns=\"http://www.w3.org/2000/svg\" height=\"24px\"viewBox=\"0 0 24 24\"\n",
              "       width=\"24px\">\n",
              "    <path d=\"M0 0h24v24H0V0z\" fill=\"none\"/>\n",
              "    <path d=\"M18.56 5.44l.94 2.06.94-2.06 2.06-.94-2.06-.94-.94-2.06-.94 2.06-2.06.94zm-11 1L8.5 8.5l.94-2.06 2.06-.94-2.06-.94L8.5 2.5l-.94 2.06-2.06.94zm10 10l.94 2.06.94-2.06 2.06-.94-2.06-.94-.94-2.06-.94 2.06-2.06.94z\"/><path d=\"M17.41 7.96l-1.37-1.37c-.4-.4-.92-.59-1.43-.59-.52 0-1.04.2-1.43.59L10.3 9.45l-7.72 7.72c-.78.78-.78 2.05 0 2.83L4 21.41c.39.39.9.59 1.41.59.51 0 1.02-.2 1.41-.59l7.78-7.78 2.81-2.81c.8-.78.8-2.07 0-2.86zM5.41 20L4 18.59l7.72-7.72 1.47 1.35L5.41 20z\"/>\n",
              "  </svg>\n",
              "      </button>\n",
              "      \n",
              "  <style>\n",
              "    .colab-df-container {\n",
              "      display:flex;\n",
              "      flex-wrap:wrap;\n",
              "      gap: 12px;\n",
              "    }\n",
              "\n",
              "    .colab-df-convert {\n",
              "      background-color: #E8F0FE;\n",
              "      border: none;\n",
              "      border-radius: 50%;\n",
              "      cursor: pointer;\n",
              "      display: none;\n",
              "      fill: #1967D2;\n",
              "      height: 32px;\n",
              "      padding: 0 0 0 0;\n",
              "      width: 32px;\n",
              "    }\n",
              "\n",
              "    .colab-df-convert:hover {\n",
              "      background-color: #E2EBFA;\n",
              "      box-shadow: 0px 1px 2px rgba(60, 64, 67, 0.3), 0px 1px 3px 1px rgba(60, 64, 67, 0.15);\n",
              "      fill: #174EA6;\n",
              "    }\n",
              "\n",
              "    [theme=dark] .colab-df-convert {\n",
              "      background-color: #3B4455;\n",
              "      fill: #D2E3FC;\n",
              "    }\n",
              "\n",
              "    [theme=dark] .colab-df-convert:hover {\n",
              "      background-color: #434B5C;\n",
              "      box-shadow: 0px 1px 3px 1px rgba(0, 0, 0, 0.15);\n",
              "      filter: drop-shadow(0px 1px 2px rgba(0, 0, 0, 0.3));\n",
              "      fill: #FFFFFF;\n",
              "    }\n",
              "  </style>\n",
              "\n",
              "      <script>\n",
              "        const buttonEl =\n",
              "          document.querySelector('#df-3a1d212f-8b59-4eba-915d-b6a5e5f304ba button.colab-df-convert');\n",
              "        buttonEl.style.display =\n",
              "          google.colab.kernel.accessAllowed ? 'block' : 'none';\n",
              "\n",
              "        async function convertToInteractive(key) {\n",
              "          const element = document.querySelector('#df-3a1d212f-8b59-4eba-915d-b6a5e5f304ba');\n",
              "          const dataTable =\n",
              "            await google.colab.kernel.invokeFunction('convertToInteractive',\n",
              "                                                     [key], {});\n",
              "          if (!dataTable) return;\n",
              "\n",
              "          const docLinkHtml = 'Like what you see? Visit the ' +\n",
              "            '<a target=\"_blank\" href=https://colab.research.google.com/notebooks/data_table.ipynb>data table notebook</a>'\n",
              "            + ' to learn more about interactive tables.';\n",
              "          element.innerHTML = '';\n",
              "          dataTable['output_type'] = 'display_data';\n",
              "          await google.colab.output.renderOutput(dataTable, element);\n",
              "          const docLink = document.createElement('div');\n",
              "          docLink.innerHTML = docLinkHtml;\n",
              "          element.appendChild(docLink);\n",
              "        }\n",
              "      </script>\n",
              "    </div>\n",
              "  </div>\n",
              "  "
            ],
            "text/plain": [
              "                  id  ...      target\n",
              "count    7613.000000  ...  7613.00000\n",
              "unique           NaN  ...         NaN\n",
              "top              NaN  ...         NaN\n",
              "freq             NaN  ...         NaN\n",
              "mean     5441.934848  ...     0.42966\n",
              "std      3137.116090  ...     0.49506\n",
              "min         1.000000  ...     0.00000\n",
              "25%      2734.000000  ...     0.00000\n",
              "50%      5408.000000  ...     0.00000\n",
              "75%      8146.000000  ...     1.00000\n",
              "max     10873.000000  ...     1.00000\n",
              "\n",
              "[11 rows x 5 columns]"
            ]
          },
          "execution_count": 150,
          "metadata": {},
          "output_type": "execute_result"
        }
      ],
      "source": [
        "#EDA Rapide\n",
        "train.describe(include=\"all\")"
      ]
    },
    {
      "cell_type": "code",
      "execution_count": null,
      "metadata": {
        "id": "4SINvZb0mmmZ"
      },
      "outputs": [],
      "source": [
        "#Enregistrement des Dataframe sur le disque\n",
        "train.to_csv(\"/content/train/train.csv\")\n",
        "test.to_csv(\"/content/test/test.csv\")"
      ]
    },
    {
      "cell_type": "code",
      "execution_count": null,
      "metadata": {
        "id": "iGGxs5VekUWF"
      },
      "outputs": [],
      "source": [
        "#Selection des colonnes utiles\n",
        "train = train[[\"text\",\"target\"]]"
      ]
    },
    {
      "cell_type": "code",
      "execution_count": null,
      "metadata": {
        "colab": {
          "base_uri": "https://localhost:8080/"
        },
        "id": "xEzBwlfYrECZ",
        "outputId": "1fccad09-533c-4a90-a9d6-0cb546d7aed6"
      },
      "outputs": [
        {
          "name": "stdout",
          "output_type": "stream",
          "text": [
            "\u001b[K     |████████████████████████████████| 12.0 MB 8.8 MB/s \n",
            "\u001b[?25h\u001b[38;5;2m✔ Download and installation successful\u001b[0m\n",
            "You can now load the model via spacy.load('en_core_web_sm')\n"
          ]
        }
      ],
      "source": [
        "#Installation de spacy afin de lemmatizer et retirer les stopwords\n",
        "!python -m spacy download en_core_web_sm -q\n",
        "import spacy\n",
        "from spacy.lang.fr.stop_words import STOP_WORDS\n",
        "nlp = spacy.load(\"en_core_web_sm\")"
      ]
    },
    {
      "cell_type": "code",
      "execution_count": null,
      "metadata": {
        "id": "b0fWMxgNrnyr"
      },
      "outputs": [],
      "source": [
        "#Fonction cleaning pour retirer les stop word et lemmatizer\n",
        "import re\n",
        "def cleaning(text):\n",
        "  text = re.sub(\"@[a-z]+\", \"\", text)\n",
        "  text = re.sub(\" +\", \" \", text).lower().strip()\n",
        "  text = \"\".join([ch for ch in text if ch.isalnum() or ch == \" \"])\n",
        "  text = \" \".join([token.lemma_ for token in nlp(text) if token.text not in STOP_WORDS and token.lemma_ not in STOP_WORDS])\n",
        "\n",
        "  return text"
      ]
    },
    {
      "cell_type": "code",
      "execution_count": null,
      "metadata": {
        "id": "dG6Y-GzP1Tfz"
      },
      "outputs": [],
      "source": [
        "#Application de la fonction sur les 2 colonnes\n",
        "train[\"text\"] = train[\"text\"].apply(lambda x : cleaning(x))\n",
        "test[\"text\"] = test[\"text\"].apply(lambda x : cleaning(x))"
      ]
    },
    {
      "cell_type": "code",
      "execution_count": null,
      "metadata": {
        "id": "hHJeblAeAVzG"
      },
      "outputs": [],
      "source": [
        "#Tokenization du dataset et ajout des token\n",
        "import numpy as np\n",
        "tokenizer = tf.keras.preprocessing.text.Tokenizer(num_words=1000) # instanciate the tokenizer\n",
        "tokenizer.fit_on_texts(train.text)\n",
        "train[\"label\"] = tokenizer.texts_to_sequences(train.text)\n",
        "\n",
        "\n",
        "train[\"len_tweet\"] = train[\"label\"].apply(lambda x: len(x))\n",
        "train = train[train[\"len_tweet\"]!=0]"
      ]
    },
    {
      "cell_type": "code",
      "execution_count": null,
      "metadata": {
        "colab": {
          "base_uri": "https://localhost:8080/",
          "height": 423
        },
        "id": "00-2FkmkC5gx",
        "outputId": "ae991336-d00d-42be-a5b6-f3785aa9f00a"
      },
      "outputs": [
        {
          "data": {
            "text/html": [
              "\n",
              "  <div id=\"df-860e847c-fffa-45a4-b366-f33af3e6d412\">\n",
              "    <div class=\"colab-df-container\">\n",
              "      <div>\n",
              "<style scoped>\n",
              "    .dataframe tbody tr th:only-of-type {\n",
              "        vertical-align: middle;\n",
              "    }\n",
              "\n",
              "    .dataframe tbody tr th {\n",
              "        vertical-align: top;\n",
              "    }\n",
              "\n",
              "    .dataframe thead th {\n",
              "        text-align: right;\n",
              "    }\n",
              "</style>\n",
              "<table border=\"1\" class=\"dataframe\">\n",
              "  <thead>\n",
              "    <tr style=\"text-align: right;\">\n",
              "      <th></th>\n",
              "      <th>text</th>\n",
              "      <th>target</th>\n",
              "      <th>label</th>\n",
              "      <th>len_tweet</th>\n",
              "    </tr>\n",
              "  </thead>\n",
              "  <tbody>\n",
              "    <tr>\n",
              "      <th>0</th>\n",
              "      <td>-PRON- deed be the reason of this earthquake m...</td>\n",
              "      <td>1</td>\n",
              "      <td>[1, 3, 2, 523, 6, 16, 254, 99, 1, 30]</td>\n",
              "      <td>10</td>\n",
              "    </tr>\n",
              "    <tr>\n",
              "      <th>1</th>\n",
              "      <td>forest fire near ronge sask canada</td>\n",
              "      <td>1</td>\n",
              "      <td>[188, 20, 237]</td>\n",
              "      <td>3</td>\n",
              "    </tr>\n",
              "    <tr>\n",
              "      <th>2</th>\n",
              "      <td>all resident ask to shelter in place be be not...</td>\n",
              "      <td>1</td>\n",
              "      <td>[30, 561, 5, 4, 429, 3, 3, 15, 398, 33, 238, 2...</td>\n",
              "      <td>18</td>\n",
              "    </tr>\n",
              "    <tr>\n",
              "      <th>3</th>\n",
              "      <td>13000 people receive wildfire evacuation order...</td>\n",
              "      <td>1</td>\n",
              "      <td>[44, 131, 271, 399, 4, 86]</td>\n",
              "      <td>6</td>\n",
              "    </tr>\n",
              "    <tr>\n",
              "      <th>4</th>\n",
              "      <td>just get this photo from ruby alaska smoke fro...</td>\n",
              "      <td>1</td>\n",
              "      <td>[23, 17, 16, 193, 18, 255, 18, 131, 54, 177]</td>\n",
              "      <td>10</td>\n",
              "    </tr>\n",
              "    <tr>\n",
              "      <th>...</th>\n",
              "      <td>...</td>\n",
              "      <td>...</td>\n",
              "      <td>...</td>\n",
              "      <td>...</td>\n",
              "    </tr>\n",
              "    <tr>\n",
              "      <th>97</th>\n",
              "      <td>break there be deadly motorcycle accident that...</td>\n",
              "      <td>1</td>\n",
              "      <td>[212, 46, 3, 113, 11, 264, 5, 110, 434, 9, 40,...</td>\n",
              "      <td>13</td>\n",
              "    </tr>\n",
              "    <tr>\n",
              "      <th>98</th>\n",
              "      <td>be -PRON- marinade -PRON- or be -PRON- an acci...</td>\n",
              "      <td>0</td>\n",
              "      <td>[3, 1, 1, 43, 3, 1, 34, 113]</td>\n",
              "      <td>8</td>\n",
              "    </tr>\n",
              "    <tr>\n",
              "      <th>99</th>\n",
              "      <td>only have for not even week and get in fucking...</td>\n",
              "      <td>1</td>\n",
              "      <td>[121, 9, 8, 10, 166, 331, 7, 17, 4, 417, 113, ...</td>\n",
              "      <td>15</td>\n",
              "    </tr>\n",
              "    <tr>\n",
              "      <th>100</th>\n",
              "      <td>norwaymfa bahrain police have previously die i...</td>\n",
              "      <td>1</td>\n",
              "      <td>[69, 9, 154, 4, 317, 113, 1, 3, 10, 56, 15, 339]</td>\n",
              "      <td>12</td>\n",
              "    </tr>\n",
              "    <tr>\n",
              "      <th>101</th>\n",
              "      <td>still have not hear church leader of kenya com...</td>\n",
              "      <td>0</td>\n",
              "      <td>[79, 9, 10, 204, 6, 60, 5, 2, 113, 228, 7]</td>\n",
              "      <td>11</td>\n",
              "    </tr>\n",
              "  </tbody>\n",
              "</table>\n",
              "<p>100 rows × 4 columns</p>\n",
              "</div>\n",
              "      <button class=\"colab-df-convert\" onclick=\"convertToInteractive('df-860e847c-fffa-45a4-b366-f33af3e6d412')\"\n",
              "              title=\"Convert this dataframe to an interactive table.\"\n",
              "              style=\"display:none;\">\n",
              "        \n",
              "  <svg xmlns=\"http://www.w3.org/2000/svg\" height=\"24px\"viewBox=\"0 0 24 24\"\n",
              "       width=\"24px\">\n",
              "    <path d=\"M0 0h24v24H0V0z\" fill=\"none\"/>\n",
              "    <path d=\"M18.56 5.44l.94 2.06.94-2.06 2.06-.94-2.06-.94-.94-2.06-.94 2.06-2.06.94zm-11 1L8.5 8.5l.94-2.06 2.06-.94-2.06-.94L8.5 2.5l-.94 2.06-2.06.94zm10 10l.94 2.06.94-2.06 2.06-.94-2.06-.94-.94-2.06-.94 2.06-2.06.94z\"/><path d=\"M17.41 7.96l-1.37-1.37c-.4-.4-.92-.59-1.43-.59-.52 0-1.04.2-1.43.59L10.3 9.45l-7.72 7.72c-.78.78-.78 2.05 0 2.83L4 21.41c.39.39.9.59 1.41.59.51 0 1.02-.2 1.41-.59l7.78-7.78 2.81-2.81c.8-.78.8-2.07 0-2.86zM5.41 20L4 18.59l7.72-7.72 1.47 1.35L5.41 20z\"/>\n",
              "  </svg>\n",
              "      </button>\n",
              "      \n",
              "  <style>\n",
              "    .colab-df-container {\n",
              "      display:flex;\n",
              "      flex-wrap:wrap;\n",
              "      gap: 12px;\n",
              "    }\n",
              "\n",
              "    .colab-df-convert {\n",
              "      background-color: #E8F0FE;\n",
              "      border: none;\n",
              "      border-radius: 50%;\n",
              "      cursor: pointer;\n",
              "      display: none;\n",
              "      fill: #1967D2;\n",
              "      height: 32px;\n",
              "      padding: 0 0 0 0;\n",
              "      width: 32px;\n",
              "    }\n",
              "\n",
              "    .colab-df-convert:hover {\n",
              "      background-color: #E2EBFA;\n",
              "      box-shadow: 0px 1px 2px rgba(60, 64, 67, 0.3), 0px 1px 3px 1px rgba(60, 64, 67, 0.15);\n",
              "      fill: #174EA6;\n",
              "    }\n",
              "\n",
              "    [theme=dark] .colab-df-convert {\n",
              "      background-color: #3B4455;\n",
              "      fill: #D2E3FC;\n",
              "    }\n",
              "\n",
              "    [theme=dark] .colab-df-convert:hover {\n",
              "      background-color: #434B5C;\n",
              "      box-shadow: 0px 1px 3px 1px rgba(0, 0, 0, 0.15);\n",
              "      filter: drop-shadow(0px 1px 2px rgba(0, 0, 0, 0.3));\n",
              "      fill: #FFFFFF;\n",
              "    }\n",
              "  </style>\n",
              "\n",
              "      <script>\n",
              "        const buttonEl =\n",
              "          document.querySelector('#df-860e847c-fffa-45a4-b366-f33af3e6d412 button.colab-df-convert');\n",
              "        buttonEl.style.display =\n",
              "          google.colab.kernel.accessAllowed ? 'block' : 'none';\n",
              "\n",
              "        async function convertToInteractive(key) {\n",
              "          const element = document.querySelector('#df-860e847c-fffa-45a4-b366-f33af3e6d412');\n",
              "          const dataTable =\n",
              "            await google.colab.kernel.invokeFunction('convertToInteractive',\n",
              "                                                     [key], {});\n",
              "          if (!dataTable) return;\n",
              "\n",
              "          const docLinkHtml = 'Like what you see? Visit the ' +\n",
              "            '<a target=\"_blank\" href=https://colab.research.google.com/notebooks/data_table.ipynb>data table notebook</a>'\n",
              "            + ' to learn more about interactive tables.';\n",
              "          element.innerHTML = '';\n",
              "          dataTable['output_type'] = 'display_data';\n",
              "          await google.colab.output.renderOutput(dataTable, element);\n",
              "          const docLink = document.createElement('div');\n",
              "          docLink.innerHTML = docLinkHtml;\n",
              "          element.appendChild(docLink);\n",
              "        }\n",
              "      </script>\n",
              "    </div>\n",
              "  </div>\n",
              "  "
            ],
            "text/plain": [
              "                                                  text  ...  len_tweet\n",
              "0    -PRON- deed be the reason of this earthquake m...  ...         10\n",
              "1                   forest fire near ronge sask canada  ...          3\n",
              "2    all resident ask to shelter in place be be not...  ...         18\n",
              "3    13000 people receive wildfire evacuation order...  ...          6\n",
              "4    just get this photo from ruby alaska smoke fro...  ...         10\n",
              "..                                                 ...  ...        ...\n",
              "97   break there be deadly motorcycle accident that...  ...         13\n",
              "98   be -PRON- marinade -PRON- or be -PRON- an acci...  ...          8\n",
              "99   only have for not even week and get in fucking...  ...         15\n",
              "100  norwaymfa bahrain police have previously die i...  ...         12\n",
              "101  still have not hear church leader of kenya com...  ...         11\n",
              "\n",
              "[100 rows x 4 columns]"
            ]
          },
          "execution_count": 164,
          "metadata": {},
          "output_type": "execute_result"
        }
      ],
      "source": [
        "train.head(100)"
      ]
    },
    {
      "cell_type": "code",
      "execution_count": null,
      "metadata": {
        "colab": {
          "base_uri": "https://localhost:8080/"
        },
        "id": "tyW5fJPODh4G",
        "outputId": "f18a265b-9b36-4c54-d5ee-1b662c1e638f"
      },
      "outputs": [
        {
          "data": {
            "text/plain": [
              "array([[  1,   3,   2, ...,   0,   0,   0],\n",
              "       [188,  20, 237, ...,   0,   0,   0],\n",
              "       [ 30, 561,   5, ...,   0,   0,   0],\n",
              "       ...,\n",
              "       [556,  31,   6, ...,   0,   0,   0],\n",
              "       [ 69, 867,  32, ...,   0,   0,   0],\n",
              "       [  2, 174,  40, ...,   0,   0,   0]], dtype=int32)"
            ]
          },
          "execution_count": 165,
          "metadata": {},
          "output_type": "execute_result"
        }
      ],
      "source": [
        "#Ajout du padding pour que les sequences soient de même longueurs\n",
        "\n",
        "tweet_pad = tf.keras.preprocessing.sequence.pad_sequences(train.label, padding=\"post\")\n",
        "tweet_pad"
      ]
    },
    {
      "cell_type": "code",
      "execution_count": null,
      "metadata": {
        "id": "XC1iVTYWExys"
      },
      "outputs": [],
      "source": [
        "# creation du tensor slice dataset\n",
        "train_ds = tf.data.Dataset.from_tensor_slices((tweet_pad, train.target.values))"
      ]
    },
    {
      "cell_type": "code",
      "execution_count": null,
      "metadata": {
        "id": "b5f02FUxFc_Y"
      },
      "outputs": [],
      "source": [
        "# Creation du Train Test Split\n",
        "TAKE_SIZE = int(0.7*train.shape[0])\n",
        "\n",
        "train_data = train_ds.take(TAKE_SIZE).shuffle(TAKE_SIZE)\n",
        "train_data = train_data.batch(32)\n",
        "\n",
        "test_data = train_ds.skip(TAKE_SIZE)\n",
        "test_data = test_data.batch(32)"
      ]
    },
    {
      "cell_type": "code",
      "execution_count": null,
      "metadata": {
        "id": "Ip8pG_G8KNT9"
      },
      "outputs": [],
      "source": [
        "embedding_dim=32"
      ]
    },
    {
      "cell_type": "code",
      "execution_count": null,
      "metadata": {
        "colab": {
          "base_uri": "https://localhost:8080/"
        },
        "id": "GVnEAzYbQ0FR",
        "outputId": "c801e1cb-85cb-47d1-dd9d-a4d176cfc18a"
      },
      "outputs": [
        {
          "name": "stdout",
          "output_type": "stream",
          "text": [
            "tf.Tensor(\n",
            "[[  2  44  50 617   7 447  41 262 858 105  63   3  10   2 749 183  50   3\n",
            "    2 749   0   0   0   0   0   0   0   0]\n",
            " [791 226 771 229 372 172 536   6  15   0   0   0   0   0   0   0   0   0\n",
            "    0   0   0   0   0   0   0   0   0   0]\n",
            " [142  21 103   1  31   7   1  31  34   0   0   0   0   0   0   0   0   0\n",
            "    0   0   0   0   0   0   0   0   0   0]\n",
            " [243 325 429 396  84   4   1 198  43 325   0   0   0   0   0   0   0   0\n",
            "    0   0   0   0   0   0   0   0   0   0]\n",
            " [ 78   2 840   6 383   7  17   1 558   9 334   5  12  13   1   0   0   0\n",
            "    0   0   0   0   0   0   0   0   0   0]\n",
            " [508   0   0   0   0   0   0   0   0   0   0   0   0   0   0   0   0   0\n",
            "    0   0   0   0   0   0   0   0   0   0]\n",
            " [250 321 119   3 577  70   0   0   0   0   0   0   0   0   0   0   0   0\n",
            "    0   0   0   0   0   0   0   0   0   0]\n",
            " [184 686   0   0   0   0   0   0   0   0   0   0   0   0   0   0   0   0\n",
            "    0   0   0   0   0   0   0   0   0   0]\n",
            " [435 503   2   0   0   0   0   0   0   0   0   0   0   0   0   0   0   0\n",
            "    0   0   0   0   0   0   0   0   0   0]\n",
            " [756 280 281  13 700   6 773 150  34 756 280   9   3 281  13 700  49   2\n",
            "  201   0   0   0   0   0   0   0   0   0]\n",
            " [  6 387   0   0   0   0   0   0   0   0   0   0   0   0   0   0   0   0\n",
            "    0   0   0   0   0   0   0   0   0   0]\n",
            " [691 816 619 344 514  51   0   0   0   0   0   0   0   0   0   0   0   0\n",
            "    0   0   0   0   0   0   0   0   0   0]\n",
            " [ 96 336  29  20  35   1  79  53   0   0   0   0   0   0   0   0   0   0\n",
            "    0   0   0   0   0   0   0   0   0   0]\n",
            " [449   3   2  53  80   0   0   0   0   0   0   0   0   0   0   0   0   0\n",
            "    0   0   0   0   0   0   0   0   0   0]\n",
            " [518   1  42   0   0   0   0   0   0   0   0   0   0   0   0   0   0   0\n",
            "    0   0   0   0   0   0   0   0   0   0]\n",
            " [ 96 906   3 862  43 308  34  39  16  10  33 546  26  10   3 722   8 355\n",
            "    0   0   0   0   0   0   0   0   0   0]\n",
            " [613 655 394   1 957   0   0   0   0   0   0   0   0   0   0   0   0   0\n",
            "    0   0   0   0   0   0   0   0   0   0]\n",
            " [ 35   1  12  10  75 290 130  34 352   3  60  18   0   0   0   0   0   0\n",
            "    0   0   0   0   0   0   0   0   0   0]\n",
            " [ 19 111  55  18 285 769   0   0   0   0   0   0   0   0   0   0   0   0\n",
            "    0   0   0   0   0   0   0   0   0   0]\n",
            " [  4 586 237 764 657  90   4  62  33   0   0   0   0   0   0   0   0   0\n",
            "    0   0   0   0   0   0   0   0   0   0]\n",
            " [ 96  12   5 110   1  65 132  19   1   3 520  15 176   6   0   0   0   0\n",
            "    0   0   0   0   0   0   0   0   0   0]\n",
            " [ 83   1  27  28  10 382 324 153   0   0   0   0   0   0   0   0   0   0\n",
            "    0   0   0   0   0   0   0   0   0   0]\n",
            " [256 275  69 237 388  62 347  11 464   8  41 363   0   0   0   0   0   0\n",
            "    0   0   0   0   0   0   0   0   0   0]\n",
            " [797 670 518   0   0   0   0   0   0   0   0   0   0   0   0   0   0   0\n",
            "    0   0   0   0   0   0   0   0   0   0]\n",
            " [ 29 732 744   7   3 496   7 116  22  21 504   5   0   0   0   0   0   0\n",
            "    0   0   0   0   0   0   0   0   0   0]\n",
            " [  1 294  46   3  34 796 405 284 263 264   1 145   0   0   0   0   0   0\n",
            "    0   0   0   0   0   0   0   0   0   0]\n",
            " [326 343   0   0   0   0   0   0   0   0   0   0   0   0   0   0   0   0\n",
            "    0   0   0   0   0   0   0   0   0   0]\n",
            " [ 16   3  32  34 799  18 223   0   0   0   0   0   0   0   0   0   0   0\n",
            "    0   0   0   0   0   0   0   0   0   0]\n",
            " [ 78   1   3 393   0   0   0   0   0   0   0   0   0   0   0   0   0   0\n",
            "    0   0   0   0   0   0   0   0   0   0]\n",
            " [  3   4 122   1  31  22   2   0   0   0   0   0   0   0   0   0   0   0\n",
            "    0   0   0   0   0   0   0   0   0   0]\n",
            " [ 19 581 760   2 202  44   7   1 353  19   0   0   0   0   0   0   0   0\n",
            "    0   0   0   0   0   0   0   0   0   0]\n",
            " [ 23   1 883  28 207  16   0   0   0   0   0   0   0   0   0   0   0   0\n",
            "    0   0   0   0   0   0   0   0   0   0]], shape=(32, 28), dtype=int32) tf.Tensor([1 0 0 0 0 1 1 1 1 1 0 1 0 1 0 0 0 1 0 1 0 0 1 0 0 1 1 1 1 0 1 0], shape=(32,), dtype=int64)\n"
          ]
        }
      ],
      "source": [
        " # Regardons un batch \n",
        "for tweet, true in train_data.take(1):\n",
        "  print(tweet, true)"
      ]
    },
    {
      "cell_type": "code",
      "execution_count": null,
      "metadata": {
        "id": "U6hszr6DLb3U"
      },
      "outputs": [],
      "source": [
        "from tensorflow.keras import Sequential\n",
        "from tensorflow.keras.layers import SimpleRNN\n",
        "from tensorflow.keras.layers import GRU\n",
        "from tensorflow.keras.layers import Dense\n",
        "from tensorflow.keras.layers import LSTM\n",
        "from tensorflow.keras.layers import Embedding\n",
        "from tensorflow.keras.layers import Conv1D\n",
        "from tensorflow.keras.layers import Conv2D\n",
        "\n",
        "\n",
        "\n",
        "\n",
        "vocab_size = tokenizer.num_words\n",
        "model = tf.keras.Sequential([\n",
        "                  # Couche d'Input Word Embedding           \n",
        "                  Embedding(vocab_size+1, 5, input_shape=[tweet.shape[1],],name=\"embedding\"),\n",
        "\n",
        "                  #Couche GRU\n",
        "                  GRU(units=32, return_sequences=False, return_state=False),\n",
        "\n",
        "                  # Couche Dense classique\n",
        "                  Dense(24, activation='tanh'),\n",
        "                  Dense(12, activation='sigmoid'),\n",
        "                  \n",
        "\n",
        "                  # Couche de sortie avec le nombre de neurones en sortie égale au nombre de classe avec fonction softmax\n",
        "                  Dense(1, activation=\"sigmoid\")\n",
        "])"
      ]
    },
    {
      "cell_type": "code",
      "execution_count": null,
      "metadata": {
        "id": "KArK9fx5NyUM"
      },
      "outputs": [],
      "source": [
        "model.compile(optimizer='adam',\n",
        "              loss=tf.keras.losses.BinaryCrossentropy(),\n",
        "              metrics=['accuracy'])"
      ]
    },
    {
      "cell_type": "code",
      "execution_count": null,
      "metadata": {
        "colab": {
          "base_uri": "https://localhost:8080/"
        },
        "id": "bXa7zeJPOlw6",
        "outputId": "a47ea00e-3fee-4de8-9613-5db7159617b4"
      },
      "outputs": [
        {
          "name": "stdout",
          "output_type": "stream",
          "text": [
            "Model: \"sequential_18\"\n",
            "_________________________________________________________________\n",
            " Layer (type)                Output Shape              Param #   \n",
            "=================================================================\n",
            " embedding (Embedding)       (None, 28, 5)             5005      \n",
            "                                                                 \n",
            " gru_20 (GRU)                (None, 32)                3744      \n",
            "                                                                 \n",
            " dense_57 (Dense)            (None, 24)                792       \n",
            "                                                                 \n",
            " dense_58 (Dense)            (None, 12)                300       \n",
            "                                                                 \n",
            " dense_59 (Dense)            (None, 1)                 13        \n",
            "                                                                 \n",
            "=================================================================\n",
            "Total params: 9,854\n",
            "Trainable params: 9,854\n",
            "Non-trainable params: 0\n",
            "_________________________________________________________________\n"
          ]
        }
      ],
      "source": [
        "model.summary()"
      ]
    },
    {
      "cell_type": "code",
      "execution_count": null,
      "metadata": {
        "colab": {
          "background_save": true,
          "base_uri": "https://localhost:8080/"
        },
        "id": "CSEFSc3KOrZb",
        "outputId": "78c130bc-50b1-42e5-b605-1568878f9dd3"
      },
      "outputs": [
        {
          "name": "stdout",
          "output_type": "stream",
          "text": [
            "Epoch 1/40\n",
            "166/166 [==============================] - 6s 19ms/step - loss: 0.6824 - accuracy: 0.5748 - val_loss: 0.6865 - val_accuracy: 0.5582\n",
            "Epoch 2/40\n",
            "166/166 [==============================] - 3s 17ms/step - loss: 0.6822 - accuracy: 0.5748 - val_loss: 0.6873 - val_accuracy: 0.5582\n",
            "Epoch 3/40\n",
            "166/166 [==============================] - 3s 17ms/step - loss: 0.6822 - accuracy: 0.5748 - val_loss: 0.6865 - val_accuracy: 0.5582\n",
            "Epoch 4/40\n",
            "166/166 [==============================] - 3s 17ms/step - loss: 0.6821 - accuracy: 0.5748 - val_loss: 0.6867 - val_accuracy: 0.5582\n",
            "Epoch 5/40\n",
            "166/166 [==============================] - 3s 17ms/step - loss: 0.5437 - accuracy: 0.7375 - val_loss: 0.5052 - val_accuracy: 0.7514\n",
            "Epoch 6/40\n",
            "166/166 [==============================] - 3s 17ms/step - loss: 0.4428 - accuracy: 0.8113 - val_loss: 0.4979 - val_accuracy: 0.7593\n",
            "Epoch 7/40\n",
            "166/166 [==============================] - 3s 17ms/step - loss: 0.4125 - accuracy: 0.8373 - val_loss: 0.5259 - val_accuracy: 0.7532\n",
            "Epoch 8/40\n",
            "166/166 [==============================] - 3s 17ms/step - loss: 0.3903 - accuracy: 0.8458 - val_loss: 0.5248 - val_accuracy: 0.7624\n",
            "Epoch 9/40\n",
            "166/166 [==============================] - 3s 17ms/step - loss: 0.3788 - accuracy: 0.8488 - val_loss: 0.5327 - val_accuracy: 0.7444\n",
            "Epoch 10/40\n",
            "166/166 [==============================] - 3s 17ms/step - loss: 0.3680 - accuracy: 0.8574 - val_loss: 0.5585 - val_accuracy: 0.7242\n",
            "Epoch 11/40\n",
            "166/166 [==============================] - 3s 17ms/step - loss: 0.3633 - accuracy: 0.8618 - val_loss: 0.6622 - val_accuracy: 0.7185\n",
            "Epoch 12/40\n",
            "166/166 [==============================] - 3s 17ms/step - loss: 0.3551 - accuracy: 0.8706 - val_loss: 0.6512 - val_accuracy: 0.7242\n",
            "Epoch 13/40\n",
            "166/166 [==============================] - 3s 17ms/step - loss: 0.3493 - accuracy: 0.8750 - val_loss: 0.6262 - val_accuracy: 0.7303\n",
            "Epoch 14/40\n",
            "166/166 [==============================] - 3s 17ms/step - loss: 0.3406 - accuracy: 0.8808 - val_loss: 0.6213 - val_accuracy: 0.7167\n",
            "Epoch 15/40\n",
            "166/166 [==============================] - 3s 17ms/step - loss: 0.3357 - accuracy: 0.8851 - val_loss: 0.7610 - val_accuracy: 0.7049\n",
            "Epoch 16/40\n",
            "166/166 [==============================] - 3s 17ms/step - loss: 0.3326 - accuracy: 0.8883 - val_loss: 0.7318 - val_accuracy: 0.7163\n",
            "Epoch 17/40\n",
            "166/166 [==============================] - 3s 17ms/step - loss: 0.3297 - accuracy: 0.8889 - val_loss: 0.7046 - val_accuracy: 0.7211\n",
            "Epoch 18/40\n",
            "166/166 [==============================] - 3s 17ms/step - loss: 0.3289 - accuracy: 0.8898 - val_loss: 0.7159 - val_accuracy: 0.7185\n",
            "Epoch 19/40\n",
            "166/166 [==============================] - 3s 17ms/step - loss: 0.3258 - accuracy: 0.8891 - val_loss: 0.7272 - val_accuracy: 0.7167\n",
            "Epoch 20/40\n",
            "166/166 [==============================] - 3s 17ms/step - loss: 0.3169 - accuracy: 0.8959 - val_loss: 0.7235 - val_accuracy: 0.7101\n",
            "Epoch 21/40\n",
            "166/166 [==============================] - 3s 17ms/step - loss: 0.3185 - accuracy: 0.8968 - val_loss: 0.7782 - val_accuracy: 0.7053\n",
            "Epoch 22/40\n",
            "166/166 [==============================] - 3s 16ms/step - loss: 0.3178 - accuracy: 0.8976 - val_loss: 0.7706 - val_accuracy: 0.7084\n",
            "Epoch 23/40\n",
            "166/166 [==============================] - 3s 16ms/step - loss: 0.3132 - accuracy: 0.8991 - val_loss: 0.7618 - val_accuracy: 0.7079\n",
            "Epoch 24/40\n",
            "166/166 [==============================] - 3s 17ms/step - loss: 0.3149 - accuracy: 0.8983 - val_loss: 0.7382 - val_accuracy: 0.7132\n",
            "Epoch 25/40\n",
            "166/166 [==============================] - 3s 16ms/step - loss: 0.3111 - accuracy: 0.9019 - val_loss: 0.7919 - val_accuracy: 0.7075\n",
            "Epoch 26/40\n",
            "166/166 [==============================] - 3s 16ms/step - loss: 0.3111 - accuracy: 0.8992 - val_loss: 0.7706 - val_accuracy: 0.7053\n",
            "Epoch 27/40\n",
            "166/166 [==============================] - 3s 16ms/step - loss: 0.3076 - accuracy: 0.9030 - val_loss: 0.7693 - val_accuracy: 0.7031\n",
            "Epoch 28/40\n",
            "166/166 [==============================] - 3s 16ms/step - loss: 0.3043 - accuracy: 0.9043 - val_loss: 0.7857 - val_accuracy: 0.7053\n",
            "Epoch 29/40\n",
            "166/166 [==============================] - 3s 17ms/step - loss: 0.3033 - accuracy: 0.9043 - val_loss: 0.7619 - val_accuracy: 0.7097\n",
            "Epoch 30/40\n",
            "166/166 [==============================] - 3s 17ms/step - loss: 0.3029 - accuracy: 0.9051 - val_loss: 0.7772 - val_accuracy: 0.7040\n",
            "Epoch 31/40\n",
            "166/166 [==============================] - 3s 17ms/step - loss: 0.3044 - accuracy: 0.9028 - val_loss: 0.8056 - val_accuracy: 0.7066\n",
            "Epoch 32/40\n",
            "166/166 [==============================] - 3s 16ms/step - loss: 0.3016 - accuracy: 0.9043 - val_loss: 0.7865 - val_accuracy: 0.7040\n",
            "Epoch 33/40\n",
            "166/166 [==============================] - 3s 16ms/step - loss: 0.3026 - accuracy: 0.9045 - val_loss: 0.7470 - val_accuracy: 0.7097\n",
            "Epoch 34/40\n",
            "166/166 [==============================] - 3s 16ms/step - loss: 0.2996 - accuracy: 0.9081 - val_loss: 0.7569 - val_accuracy: 0.7084\n",
            "Epoch 35/40\n",
            "166/166 [==============================] - 3s 16ms/step - loss: 0.2970 - accuracy: 0.9089 - val_loss: 0.7512 - val_accuracy: 0.7137\n",
            "Epoch 36/40\n",
            "166/166 [==============================] - 3s 16ms/step - loss: 0.2995 - accuracy: 0.9068 - val_loss: 0.7937 - val_accuracy: 0.7079\n",
            "Epoch 37/40\n",
            "166/166 [==============================] - 3s 16ms/step - loss: 0.3015 - accuracy: 0.9051 - val_loss: 0.7523 - val_accuracy: 0.7123\n",
            "Epoch 38/40\n",
            "166/166 [==============================] - 3s 17ms/step - loss: 0.3025 - accuracy: 0.9045 - val_loss: 0.7664 - val_accuracy: 0.7079\n",
            "Epoch 39/40\n",
            "166/166 [==============================] - 3s 16ms/step - loss: 0.2942 - accuracy: 0.9094 - val_loss: 0.7769 - val_accuracy: 0.7106\n",
            "Epoch 40/40\n",
            "166/166 [==============================] - 3s 16ms/step - loss: 0.2956 - accuracy: 0.9081 - val_loss: 0.7760 - val_accuracy: 0.7044\n"
          ]
        }
      ],
      "source": [
        "# Entrainement du modèle \n",
        "history = model.fit(train_data, \n",
        "                    epochs=40, \n",
        "                    validation_data=test_data)"
      ]
    },
    {
      "cell_type": "code",
      "execution_count": null,
      "metadata": {
        "id": "h45_pKHQUtQ_"
      },
      "outputs": [],
      "source": [
        ""
      ]
    }
  ],
  "metadata": {
    "colab": {
      "name": "Project08.ipynb",
      "provenance": []
    },
    "kernelspec": {
      "display_name": "Python 3",
      "name": "python3"
    },
    "language_info": {
      "name": "python"
    }
  },
  "nbformat": 4,
  "nbformat_minor": 0
}