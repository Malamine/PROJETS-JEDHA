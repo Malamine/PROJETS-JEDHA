{
 "cells": [
  {
   "cell_type": "code",
   "execution_count": 14,
   "metadata": {},
   "outputs": [
    {
     "name": "stdout",
     "output_type": "stream",
     "text": [
      "{'Niveau de qualité estimé': 6.0}\n"
     ]
    }
   ],
   "source": [
    "#Test de l'API\n",
    "import requests\n",
    "\n",
    "values = [1, 10, 1,8, 1, 0.51,10, 0.1, 15, 0.4, 11]\n",
    "\n",
    "response = requests.post(\"https://wine-quality-mala-app.herokuapp.com/quality\", json={\"quality\": values})\n",
    "print(response.json())"
   ]
  }
 ],
 "metadata": {
  "kernelspec": {
   "display_name": "Python 3",
   "language": "python",
   "name": "python3"
  },
  "language_info": {
   "codemirror_mode": {
    "name": "ipython",
    "version": 3
   },
   "file_extension": ".py",
   "mimetype": "text/x-python",
   "name": "python",
   "nbconvert_exporter": "python",
   "pygments_lexer": "ipython3",
   "version": "3.8.6"
  }
 },
 "nbformat": 4,
 "nbformat_minor": 4
}
